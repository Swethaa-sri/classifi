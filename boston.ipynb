{
  "nbformat": 4,
  "nbformat_minor": 0,
  "metadata": {
    "colab": {
      "name": "boston.ipynb",
      "provenance": [],
      "authorship_tag": "ABX9TyMx55aZb9rl+LP85kRU7M3h",
      "include_colab_link": true
    },
    "kernelspec": {
      "name": "python3",
      "display_name": "Python 3"
    },
    "language_info": {
      "name": "python"
    }
  },
  "cells": [
    {
      "cell_type": "markdown",
      "metadata": {
        "id": "view-in-github",
        "colab_type": "text"
      },
      "source": [
        "<a href=\"https://colab.research.google.com/github/Swethaa-sri/classifi/blob/main/boston.ipynb\" target=\"_parent\"><img src=\"https://colab.research.google.com/assets/colab-badge.svg\" alt=\"Open In Colab\"/></a>"
      ]
    },
    {
      "cell_type": "markdown",
      "source": [
        "Boston Housing Dataset\n",
        "Predicting Median value of owner-occupied homes\n",
        "The aim of this assignment is to learn the application of machine learning algorithms to data sets. This involves learning what data means, how to handle data, training, cross validation, prediction, testing your model, etc.\n",
        "This dataset contains information collected by the U.S Census Service concerning housing in the area of Boston Mass. It was obtained from the StatLib archive, and has been used extensively throughout the literature to benchmark algorithms. The data was originally published by Harrison, D. and Rubinfeld, D.L. Hedonic prices and the demand for clean air', J. Environ. Economics & Management, vol.5, 81-102, 1978.\n",
        "\n",
        "\n",
        "The dataset is small in size with only 506 cases. It can be used to predict the median value of a home, which is done here. There are 14 attributes in each case of the dataset. They are:\n",
        "CRIM - per capita crime rate by town\n",
        "ZN - proportion of residential land zoned for lots over 25,000 sq.ft.\n",
        "INDUS - proportion of non-retail business acres per town.\n",
        "CHAS - Charles River dummy variable (1 if tract bounds river; 0 otherwise)\n",
        "NOX - nitric oxides concentration (parts per 10 million)\n",
        "RM - average number of rooms per dwelling\n",
        "AGE - proportion of owner-occupied units built prior to 1940\n",
        "DIS - weighted distances to five Boston employment centres\n",
        "RAD - index of accessibility to radial highways\n",
        "TAX - full-value property-tax rate per $10,000\n",
        "PTRATIO - pupil-teacher ratio by town\n",
        "B - 1000(Bk - 0.63)^2 where Bk is the proportion of blacks by town\n",
        "LSTAT - % lower status of the population\n",
        "MEDV - Median value of owner-occupied homes in $1000's\n",
        " \n",
        "Aim\n",
        "\n",
        "-->To implement a linear regression with regularization via gradient descent.\n",
        "\n",
        "-->to implement gradient descent with Lp norm, for 3 different values of p \n",
        "   in (1,2]\n",
        "\n",
        "-->To contrast the difference between performance of linear regression Lp \n",
        "   norm and L2 norm for these 3 different values.\n",
        "\n",
        "-->Tally that the gradient descent for L2 gives same result as matrix     inversion  based solution.\n",
        "\n",
        "All the code is written in a single python file. The python program accepts the data directory path as input where the train and test csv files reside. Note that the data directory will contain two files train.csv used to train your model and test.csv for which the output predictions are to be made. The output predictions get written to a file named output.csv. The output.csv file should have two comma separated columns [ID,Output].\n",
        "\n",
        "\n",
        "\n",
        "Working of Code:\n",
        "\n",
        "--> NumPy library would be required, so code begins by importing it\n",
        "\n",
        "--> Import phi and phi_test from train and test datasets using NumPy's loadtxt    function\n",
        "\n",
        "--> Import y from train dataset using the loadtxt function\n",
        "\n",
        "--> Concatenate coloumn of 1s to right of phi and phi_test\n",
        "\n",
        "--> Apply min max scaling on each coloumn of phi and phi_test\n",
        "\n",
        "--> Apply log scaling on y\n",
        "\n",
        "--> Define a function to calculate change in error function based on phi, w and p norm\n",
        "\n",
        "--> Make a dictionary containing filenames as keys and p as values\n",
        "\n",
        "--> For each item in this dictionary\n",
        "\n",
        "--> Set the w to all 0s\n",
        "\n",
        "--> Set an appropriate value for lambda and step size\n",
        "\n",
        "--> Calculate new value of w\n",
        "\n",
        "--> Repeat steps until error between consecutive ws is less than threshold\n",
        "Load values of id from test data file\n",
        "\n",
        "--> Calculate y for test data using phi test and applying inverse log\n",
        "\n",
        "--> Save the ids and y according to filename from dictionary\n",
        " \n",
        "\n",
        "Feature Engineering:\n",
        "\n",
        "--> Columns of phi are not in same range, this is because their units are different i.e phi is ill conditioned\n",
        "So, min max scaling for each column is applied to bring them in range 0-1\n",
        "Same scaling would be required on columns of phi test\n",
        "Log scaling was used on y. This was determined by trial and error\n",
        "\n",
        "\n",
        "Comparison of performance:\n",
        "\n",
        "(p1=1.75, p2=1.5, p3=1.3)\n",
        "As p decreases error in y decreases\n",
        "As p decreases norm of w increases but this can be taken care by increasing lambda\n",
        "As p decreases number of iterations required decreases\n",
        "\n",
        "\n",
        "Tuning of Hyperparameter:\n",
        "\n",
        "If p is fixed and lambda is increased error decreases up to a certain lambda, then it starts rising\n",
        "So, lambda was tuned by trial and error.\n",
        "Starting with 0, lambda was increased in small steps until a minimum error was achieved.\n",
        "\n",
        "\n",
        "Comparison of L2 gradient descent and closed form:\n",
        "\n",
        "Error from L2 Gradient descent were 4.43268 and that from closed form solution was 4.52624.\n",
        "\n",
        "Errors are comparable so, the L2 gradient descent performs closely with closed form solution.\n"
      ],
      "metadata": {
        "id": "5Ur6Fn5Ke50J"
      }
    },
    {
      "cell_type": "code",
      "execution_count": null,
      "metadata": {
        "id": "725WSJwze5DW"
      },
      "outputs": [],
      "source": [
        ""
      ]
    }
  ]
}